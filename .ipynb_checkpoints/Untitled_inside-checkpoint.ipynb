{
 "cells": [
  {
   "cell_type": "code",
   "execution_count": 1,
   "metadata": {},
   "outputs": [],
   "source": [
    "import os"
   ]
  },
  {
   "cell_type": "code",
   "execution_count": 3,
   "metadata": {},
   "outputs": [
    {
     "data": {
      "text/plain": [
       "'/Users/bikkykumar/Documents/Python and ML/Learning Notes BK/Git and Github/git_example'"
      ]
     },
     "execution_count": 3,
     "metadata": {},
     "output_type": "execute_result"
    }
   ],
   "source": [
    "os.getcwd()"
   ]
  },
  {
   "cell_type": "code",
   "execution_count": 5,
   "metadata": {},
   "outputs": [
    {
     "name": "stdout",
     "output_type": "stream",
     "text": [
      "On branch master\r\n",
      "Your branch is up to date with 'origin/master'.\r\n",
      "\r\n",
      "Untracked files:\r\n",
      "  (use \"git add <file>...\" to include in what will be committed)\r\n",
      "\t\u001b[31m.ipynb_checkpoints/\u001b[m\r\n",
      "\t\u001b[31mUntitled_inside.ipynb\u001b[m\r\n",
      "\r\n",
      "nothing added to commit but untracked files present (use \"git add\" to track)\r\n"
     ]
    }
   ],
   "source": [
    "!git status"
   ]
  },
  {
   "cell_type": "code",
   "execution_count": 7,
   "metadata": {},
   "outputs": [],
   "source": [
    "!git add ."
   ]
  },
  {
   "cell_type": "code",
   "execution_count": 10,
   "metadata": {},
   "outputs": [
    {
     "name": "stdout",
     "output_type": "stream",
     "text": [
      "[master 9db3284] added file to repo\r\n",
      " 2 files changed, 120 insertions(+)\r\n",
      " create mode 100644 .ipynb_checkpoints/Untitled_inside-checkpoint.ipynb\r\n",
      " create mode 100644 Untitled_inside.ipynb\r\n"
     ]
    }
   ],
   "source": [
    "!git commit -a -m 'added file to repo'"
   ]
  },
  {
   "cell_type": "code",
   "execution_count": 11,
   "metadata": {},
   "outputs": [
    {
     "name": "stdout",
     "output_type": "stream",
     "text": [
      "\u001b[KEnumerating objects: 6, done.\n",
      "\u001b[KCounting objects: 100% (6/6), done.\n",
      "Delta compression using up to 4 threads\n",
      "\u001b[KCompressing objects: 100% (5/5), done.\n",
      "\u001b[KWriting objects: 100% (5/5), 1.26 KiB | 1.26 MiB/s, done.\n",
      "Total 5 (delta 0), reused 0 (delta 0)\n",
      "To github.com:bkumar86/git_example.git\n",
      "   8233714..9db3284  master -> master\n"
     ]
    }
   ],
   "source": [
    "!git push"
   ]
  },
  {
   "cell_type": "code",
   "execution_count": 12,
   "metadata": {},
   "outputs": [
    {
     "name": "stdout",
     "output_type": "stream",
     "text": [
      "On branch master\r\n",
      "Your branch is up to date with 'origin/master'.\r\n",
      "\r\n",
      "nothing to commit, working tree clean\r\n"
     ]
    }
   ],
   "source": [
    "!git status"
   ]
  },
  {
   "cell_type": "code",
   "execution_count": 13,
   "metadata": {},
   "outputs": [],
   "source": [
    "!git add ."
   ]
  },
  {
   "cell_type": "code",
   "execution_count": 14,
   "metadata": {},
   "outputs": [
    {
     "name": "stdout",
     "output_type": "stream",
     "text": [
      "[master 7bf366a] added a folder and an image\r\n",
      " 3 files changed, 50 insertions(+), 5 deletions(-)\r\n",
      " create mode 100644 cat3.jpg\r\n",
      " create mode 100755 trial folder/SQL_Kaggle.pages\r\n"
     ]
    }
   ],
   "source": [
    "!git commit -a -m 'added a folder and an image'"
   ]
  },
  {
   "cell_type": "code",
   "execution_count": 15,
   "metadata": {},
   "outputs": [
    {
     "name": "stdout",
     "output_type": "stream",
     "text": [
      "\u001b[KEnumerating objects: 8, done.\n",
      "\u001b[KCounting objects: 100% (8/8), done.\n",
      "Delta compression using up to 4 threads\n",
      "\u001b[KCompressing objects: 100% (5/5), done.\n",
      "\u001b[KWriting objects: 100% (6/6), 401.38 KiB | 11.80 MiB/s, done.\n",
      "Total 6 (delta 1), reused 0 (delta 0)\n",
      "remote: Resolving deltas: 100% (1/1), completed with 1 local object.\u001b[K\n",
      "To github.com:bkumar86/git_example.git\n",
      "   9db3284..7bf366a  master -> master\n"
     ]
    }
   ],
   "source": [
    "!git push"
   ]
  },
  {
   "cell_type": "code",
   "execution_count": 16,
   "metadata": {},
   "outputs": [
    {
     "name": "stdout",
     "output_type": "stream",
     "text": [
      "Everything up-to-date\r\n"
     ]
    }
   ],
   "source": [
    "!git push"
   ]
  },
  {
   "cell_type": "code",
   "execution_count": 17,
   "metadata": {},
   "outputs": [],
   "source": [
    "!git add ."
   ]
  },
  {
   "cell_type": "code",
   "execution_count": 18,
   "metadata": {},
   "outputs": [
    {
     "name": "stdout",
     "output_type": "stream",
     "text": [
      "[master 0b6bf5f] updating notebook\r\n",
      " 2 files changed, 280 insertions(+), 2 deletions(-)\r\n"
     ]
    }
   ],
   "source": [
    "!git commit -a -m 'updating notebook'"
   ]
  },
  {
   "cell_type": "code",
   "execution_count": 19,
   "metadata": {},
   "outputs": [
    {
     "name": "stdout",
     "output_type": "stream",
     "text": [
      "\u001b[KEnumerating objects: 9, done.\n",
      "\u001b[KCounting objects: 100% (9/9), done.\n",
      "Delta compression using up to 4 threads\n",
      "\u001b[KCompressing objects: 100% (5/5), done.\n",
      "\u001b[KWriting objects: 100% (5/5), 1.54 KiB | 1.54 MiB/s, done.\n",
      "Total 5 (delta 2), reused 0 (delta 0)\n",
      "remote: Resolving deltas: 100% (2/2), completed with 1 local object.\u001b[K\n",
      "To github.com:bkumar86/git_example.git\n",
      "   7bf366a..0b6bf5f  master -> master\n"
     ]
    }
   ],
   "source": [
    "!git push"
   ]
  },
  {
   "cell_type": "code",
   "execution_count": 20,
   "metadata": {},
   "outputs": [
    {
     "name": "stdout",
     "output_type": "stream",
     "text": [
      "remote: Enumerating objects: 4, done.\u001b[K\n",
      "remote: Counting objects: 100% (4/4), done.\u001b[K\n",
      "remote: Compressing objects: 100% (3/3), done.\u001b[K\n",
      "remote: Total 3 (delta 1), reused 0 (delta 0), pack-reused 0\u001b[K\n",
      "\u001b[KUnpacking objects: 100% (3/3), done.\n",
      "From github.com:bkumar86/git_example\n",
      "   0b6bf5f..d4e649e  master     -> origin/master\n",
      "Updating 0b6bf5f..d4e649e\n",
      "Fast-forward\n",
      " Conda_env.docx | Bin \u001b[31m0\u001b[m -> \u001b[32m16213\u001b[m bytes\n",
      " 1 file changed, 0 insertions(+), 0 deletions(-)\n",
      " create mode 100644 Conda_env.docx\n"
     ]
    }
   ],
   "source": [
    "!git pull"
   ]
  },
  {
   "cell_type": "markdown",
   "metadata": {},
   "source": [
    "## Checking if we need to add files or can just update present notebook"
   ]
  },
  {
   "cell_type": "code",
   "execution_count": 21,
   "metadata": {},
   "outputs": [
    {
     "name": "stdout",
     "output_type": "stream",
     "text": [
      "[master e7b096c] another trial to notebook\r\n",
      " 2 files changed, 191 insertions(+)\r\n"
     ]
    }
   ],
   "source": [
    "!git commit -a -m 'another trial to notebook'"
   ]
  },
  {
   "cell_type": "code",
   "execution_count": 22,
   "metadata": {},
   "outputs": [
    {
     "name": "stdout",
     "output_type": "stream",
     "text": [
      "\u001b[KEnumerating objects: 7, done.\n",
      "\u001b[KCounting objects: 100% (7/7), done.\n",
      "Delta compression using up to 4 threads\n",
      "\u001b[KCompressing objects: 100% (4/4), done.\n",
      "\u001b[KWriting objects: 100% (4/4), 937 bytes | 937.00 KiB/s, done.\n",
      "Total 4 (delta 2), reused 0 (delta 0)\n",
      "remote: Resolving deltas: 100% (2/2), completed with 2 local objects.\u001b[K\n",
      "To github.com:bkumar86/git_example.git\n",
      "   d4e649e..e7b096c  master -> master\n"
     ]
    }
   ],
   "source": [
    "!git push"
   ]
  },
  {
   "cell_type": "code",
   "execution_count": 23,
   "metadata": {},
   "outputs": [
    {
     "name": "stdout",
     "output_type": "stream",
     "text": [
      "origin\r\n"
     ]
    }
   ],
   "source": [
    "!git remote"
   ]
  },
  {
   "cell_type": "code",
   "execution_count": 24,
   "metadata": {},
   "outputs": [],
   "source": [
    "!git add -A"
   ]
  },
  {
   "cell_type": "code",
   "execution_count": 25,
   "metadata": {},
   "outputs": [
    {
     "name": "stdout",
     "output_type": "stream",
     "text": [
      "Everything up-to-date\r\n"
     ]
    }
   ],
   "source": [
    "!git push"
   ]
  },
  {
   "cell_type": "code",
   "execution_count": 26,
   "metadata": {},
   "outputs": [
    {
     "name": "stdout",
     "output_type": "stream",
     "text": [
      "[master 68ee58b] trying subfolder\n",
      " 2 files changed, 106 insertions(+), 1 deletion(-)\n"
     ]
    }
   ],
   "source": [
    "!git commit -a -m 'trying subfolder'"
   ]
  },
  {
   "cell_type": "code",
   "execution_count": 27,
   "metadata": {},
   "outputs": [
    {
     "name": "stdout",
     "output_type": "stream",
     "text": [
      "Warning: Permanently added the RSA host key for IP address '140.82.112.4' to the list of known hosts.\n",
      "\u001b[KEnumerating objects: 9, done.\n",
      "\u001b[KCounting objects: 100% (8/8), done.\n",
      "Delta compression using up to 4 threads\n",
      "\u001b[KCompressing objects: 100% (5/5), done.\n",
      "\u001b[KWriting objects: 100% (5/5), 843 bytes | 843.00 KiB/s, done.\n",
      "Total 5 (delta 3), reused 0 (delta 0)\n",
      "remote: Resolving deltas: 100% (3/3), completed with 2 local objects.\u001b[K\n",
      "To github.com:bkumar86/git_example.git\n",
      "   e7b096c..68ee58b  master -> master\n"
     ]
    }
   ],
   "source": [
    "!git push"
   ]
  },
  {
   "cell_type": "code",
   "execution_count": null,
   "metadata": {},
   "outputs": [],
   "source": []
  }
 ],
 "metadata": {
  "kernelspec": {
   "display_name": "Python 3",
   "language": "python",
   "name": "python3"
  },
  "language_info": {
   "codemirror_mode": {
    "name": "ipython",
    "version": 3
   },
   "file_extension": ".py",
   "mimetype": "text/x-python",
   "name": "python",
   "nbconvert_exporter": "python",
   "pygments_lexer": "ipython3",
   "version": "3.7.6"
  }
 },
 "nbformat": 4,
 "nbformat_minor": 4
}
